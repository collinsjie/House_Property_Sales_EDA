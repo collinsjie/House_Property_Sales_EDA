{
 "cells": [
  {
   "cell_type": "markdown",
   "id": "fa137fa2",
   "metadata": {},
   "source": [
    "# House Property Sales Time Series\n",
    "This Datasets contains property sales data for the 2007-2019 period for one specific region. \n",
    "The data contains sales prices for houses and units with 1,2,3,4,5 bedrooms.\n",
    "\n",
    "## Objective\n",
    "- making a forecast for this analysis"
   ]
  },
  {
   "cell_type": "markdown",
   "id": "7f2b06c5",
   "metadata": {},
   "source": [
    "\n",
    "# The following team Members worked on this project:\n",
    "\n",
    "    Ehijie Agbagu\n",
    "    Adesegun Adeboye\n",
    "    Kolawole Abdulquadri\n",
    "    Sodiq Muritala\n",
    "    Hassan Mustapha\n",
    "    Ayomide Oluwole\n",
    "    Rofiat Kareem "
   ]
  },
  {
   "cell_type": "code",
   "execution_count": 2,
   "id": "d3ba462d",
   "metadata": {},
   "outputs": [],
   "source": [
    "import numpy as np\n",
    "import pandas as pd\n",
    "import matplotlib.pyplot as plt\n",
    "import seaborn as sns\n",
    "import warnings \n",
    "warnings.filterwarnings('ignore')"
   ]
  },
  {
   "cell_type": "code",
   "execution_count": 3,
   "id": "b4ff28c7",
   "metadata": {},
   "outputs": [
    {
     "data": {
      "text/html": [
       "<div>\n",
       "<style scoped>\n",
       "    .dataframe tbody tr th:only-of-type {\n",
       "        vertical-align: middle;\n",
       "    }\n",
       "\n",
       "    .dataframe tbody tr th {\n",
       "        vertical-align: top;\n",
       "    }\n",
       "\n",
       "    .dataframe thead th {\n",
       "        text-align: right;\n",
       "    }\n",
       "</style>\n",
       "<table border=\"1\" class=\"dataframe\">\n",
       "  <thead>\n",
       "    <tr style=\"text-align: right;\">\n",
       "      <th></th>\n",
       "      <th>datesold</th>\n",
       "      <th>postcode</th>\n",
       "      <th>price</th>\n",
       "      <th>propertyType</th>\n",
       "      <th>bedrooms</th>\n",
       "    </tr>\n",
       "  </thead>\n",
       "  <tbody>\n",
       "    <tr>\n",
       "      <th>0</th>\n",
       "      <td>2/7/2007 0:00</td>\n",
       "      <td>2607</td>\n",
       "      <td>525000</td>\n",
       "      <td>house</td>\n",
       "      <td>4</td>\n",
       "    </tr>\n",
       "    <tr>\n",
       "      <th>1</th>\n",
       "      <td>2/27/2007 0:00</td>\n",
       "      <td>2906</td>\n",
       "      <td>290000</td>\n",
       "      <td>house</td>\n",
       "      <td>3</td>\n",
       "    </tr>\n",
       "    <tr>\n",
       "      <th>2</th>\n",
       "      <td>3/7/2007 0:00</td>\n",
       "      <td>2905</td>\n",
       "      <td>328000</td>\n",
       "      <td>house</td>\n",
       "      <td>3</td>\n",
       "    </tr>\n",
       "    <tr>\n",
       "      <th>3</th>\n",
       "      <td>3/9/2007 0:00</td>\n",
       "      <td>2905</td>\n",
       "      <td>380000</td>\n",
       "      <td>house</td>\n",
       "      <td>4</td>\n",
       "    </tr>\n",
       "    <tr>\n",
       "      <th>4</th>\n",
       "      <td>3/21/2007 0:00</td>\n",
       "      <td>2906</td>\n",
       "      <td>310000</td>\n",
       "      <td>house</td>\n",
       "      <td>3</td>\n",
       "    </tr>\n",
       "  </tbody>\n",
       "</table>\n",
       "</div>"
      ],
      "text/plain": [
       "         datesold  postcode   price propertyType  bedrooms\n",
       "0   2/7/2007 0:00      2607  525000        house         4\n",
       "1  2/27/2007 0:00      2906  290000        house         3\n",
       "2   3/7/2007 0:00      2905  328000        house         3\n",
       "3   3/9/2007 0:00      2905  380000        house         4\n",
       "4  3/21/2007 0:00      2906  310000        house         3"
      ]
     },
     "execution_count": 3,
     "metadata": {},
     "output_type": "execute_result"
    }
   ],
   "source": [
    "data2 = pd.read_csv(r\"C:\\Users\\HP\\Downloads\\Property_sales1.csv\")\n",
    "data2.head()"
   ]
  },
  {
   "cell_type": "code",
   "execution_count": 4,
   "id": "ce3a3c77",
   "metadata": {},
   "outputs": [
    {
     "data": {
      "text/plain": [
       "(29580, 5)"
      ]
     },
     "execution_count": 4,
     "metadata": {},
     "output_type": "execute_result"
    }
   ],
   "source": [
    "data2.shape"
   ]
  },
  {
   "cell_type": "code",
   "execution_count": 5,
   "id": "74a48142",
   "metadata": {},
   "outputs": [
    {
     "name": "stdout",
     "output_type": "stream",
     "text": [
      "<class 'pandas.core.frame.DataFrame'>\n",
      "RangeIndex: 29580 entries, 0 to 29579\n",
      "Data columns (total 5 columns):\n",
      " #   Column        Non-Null Count  Dtype \n",
      "---  ------        --------------  ----- \n",
      " 0   datesold      29580 non-null  object\n",
      " 1   postcode      29580 non-null  int64 \n",
      " 2   price         29580 non-null  int64 \n",
      " 3   propertyType  29580 non-null  object\n",
      " 4   bedrooms      29580 non-null  int64 \n",
      "dtypes: int64(3), object(2)\n",
      "memory usage: 1.1+ MB\n"
     ]
    }
   ],
   "source": [
    "data2.info()"
   ]
  },
  {
   "cell_type": "code",
   "execution_count": 6,
   "id": "35ee366e",
   "metadata": {},
   "outputs": [
    {
     "data": {
      "text/plain": [
       "Index(['datesold', 'postcode', 'price', 'propertyType', 'bedrooms'], dtype='object')"
      ]
     },
     "execution_count": 6,
     "metadata": {},
     "output_type": "execute_result"
    }
   ],
   "source": [
    "data2.columns"
   ]
  },
  {
   "cell_type": "code",
   "execution_count": 7,
   "id": "1232ceae",
   "metadata": {},
   "outputs": [
    {
     "data": {
      "text/html": [
       "<div>\n",
       "<style scoped>\n",
       "    .dataframe tbody tr th:only-of-type {\n",
       "        vertical-align: middle;\n",
       "    }\n",
       "\n",
       "    .dataframe tbody tr th {\n",
       "        vertical-align: top;\n",
       "    }\n",
       "\n",
       "    .dataframe thead th {\n",
       "        text-align: right;\n",
       "    }\n",
       "</style>\n",
       "<table border=\"1\" class=\"dataframe\">\n",
       "  <thead>\n",
       "    <tr style=\"text-align: right;\">\n",
       "      <th></th>\n",
       "      <th>datesold</th>\n",
       "      <th>postcode</th>\n",
       "      <th>price</th>\n",
       "      <th>propertyType</th>\n",
       "      <th>bedrooms</th>\n",
       "    </tr>\n",
       "  </thead>\n",
       "  <tbody>\n",
       "    <tr>\n",
       "      <th>0</th>\n",
       "      <td>False</td>\n",
       "      <td>False</td>\n",
       "      <td>False</td>\n",
       "      <td>False</td>\n",
       "      <td>False</td>\n",
       "    </tr>\n",
       "    <tr>\n",
       "      <th>1</th>\n",
       "      <td>False</td>\n",
       "      <td>False</td>\n",
       "      <td>False</td>\n",
       "      <td>False</td>\n",
       "      <td>False</td>\n",
       "    </tr>\n",
       "    <tr>\n",
       "      <th>2</th>\n",
       "      <td>False</td>\n",
       "      <td>False</td>\n",
       "      <td>False</td>\n",
       "      <td>False</td>\n",
       "      <td>False</td>\n",
       "    </tr>\n",
       "    <tr>\n",
       "      <th>3</th>\n",
       "      <td>False</td>\n",
       "      <td>False</td>\n",
       "      <td>False</td>\n",
       "      <td>False</td>\n",
       "      <td>False</td>\n",
       "    </tr>\n",
       "    <tr>\n",
       "      <th>4</th>\n",
       "      <td>False</td>\n",
       "      <td>False</td>\n",
       "      <td>False</td>\n",
       "      <td>False</td>\n",
       "      <td>False</td>\n",
       "    </tr>\n",
       "    <tr>\n",
       "      <th>...</th>\n",
       "      <td>...</td>\n",
       "      <td>...</td>\n",
       "      <td>...</td>\n",
       "      <td>...</td>\n",
       "      <td>...</td>\n",
       "    </tr>\n",
       "    <tr>\n",
       "      <th>29575</th>\n",
       "      <td>False</td>\n",
       "      <td>False</td>\n",
       "      <td>False</td>\n",
       "      <td>False</td>\n",
       "      <td>False</td>\n",
       "    </tr>\n",
       "    <tr>\n",
       "      <th>29576</th>\n",
       "      <td>False</td>\n",
       "      <td>False</td>\n",
       "      <td>False</td>\n",
       "      <td>False</td>\n",
       "      <td>False</td>\n",
       "    </tr>\n",
       "    <tr>\n",
       "      <th>29577</th>\n",
       "      <td>False</td>\n",
       "      <td>False</td>\n",
       "      <td>False</td>\n",
       "      <td>False</td>\n",
       "      <td>False</td>\n",
       "    </tr>\n",
       "    <tr>\n",
       "      <th>29578</th>\n",
       "      <td>False</td>\n",
       "      <td>False</td>\n",
       "      <td>False</td>\n",
       "      <td>False</td>\n",
       "      <td>False</td>\n",
       "    </tr>\n",
       "    <tr>\n",
       "      <th>29579</th>\n",
       "      <td>False</td>\n",
       "      <td>False</td>\n",
       "      <td>False</td>\n",
       "      <td>False</td>\n",
       "      <td>False</td>\n",
       "    </tr>\n",
       "  </tbody>\n",
       "</table>\n",
       "<p>29580 rows × 5 columns</p>\n",
       "</div>"
      ],
      "text/plain": [
       "       datesold  postcode  price  propertyType  bedrooms\n",
       "0         False     False  False         False     False\n",
       "1         False     False  False         False     False\n",
       "2         False     False  False         False     False\n",
       "3         False     False  False         False     False\n",
       "4         False     False  False         False     False\n",
       "...         ...       ...    ...           ...       ...\n",
       "29575     False     False  False         False     False\n",
       "29576     False     False  False         False     False\n",
       "29577     False     False  False         False     False\n",
       "29578     False     False  False         False     False\n",
       "29579     False     False  False         False     False\n",
       "\n",
       "[29580 rows x 5 columns]"
      ]
     },
     "execution_count": 7,
     "metadata": {},
     "output_type": "execute_result"
    }
   ],
   "source": [
    "data2.isna() # this checks for Nan values across each column in the dataset"
   ]
  },
  {
   "cell_type": "code",
   "execution_count": 8,
   "id": "9a8ae0e7",
   "metadata": {},
   "outputs": [
    {
     "data": {
      "text/plain": [
       "datesold        0\n",
       "postcode        0\n",
       "price           0\n",
       "propertyType    0\n",
       "bedrooms        0\n",
       "dtype: int64"
      ]
     },
     "execution_count": 8,
     "metadata": {},
     "output_type": "execute_result"
    }
   ],
   "source": [
    "data2.isna().sum()"
   ]
  },
  {
   "cell_type": "code",
   "execution_count": 9,
   "id": "b33195a1",
   "metadata": {},
   "outputs": [
    {
     "data": {
      "text/html": [
       "<div>\n",
       "<style scoped>\n",
       "    .dataframe tbody tr th:only-of-type {\n",
       "        vertical-align: middle;\n",
       "    }\n",
       "\n",
       "    .dataframe tbody tr th {\n",
       "        vertical-align: top;\n",
       "    }\n",
       "\n",
       "    .dataframe thead th {\n",
       "        text-align: right;\n",
       "    }\n",
       "</style>\n",
       "<table border=\"1\" class=\"dataframe\">\n",
       "  <thead>\n",
       "    <tr style=\"text-align: right;\">\n",
       "      <th></th>\n",
       "      <th>postcode</th>\n",
       "      <th>price</th>\n",
       "      <th>bedrooms</th>\n",
       "    </tr>\n",
       "  </thead>\n",
       "  <tbody>\n",
       "    <tr>\n",
       "      <th>count</th>\n",
       "      <td>29580.000000</td>\n",
       "      <td>2.958000e+04</td>\n",
       "      <td>29580.000000</td>\n",
       "    </tr>\n",
       "    <tr>\n",
       "      <th>mean</th>\n",
       "      <td>2730.249730</td>\n",
       "      <td>6.097363e+05</td>\n",
       "      <td>3.250169</td>\n",
       "    </tr>\n",
       "    <tr>\n",
       "      <th>std</th>\n",
       "      <td>146.717292</td>\n",
       "      <td>2.817079e+05</td>\n",
       "      <td>0.951275</td>\n",
       "    </tr>\n",
       "    <tr>\n",
       "      <th>min</th>\n",
       "      <td>2600.000000</td>\n",
       "      <td>5.650000e+04</td>\n",
       "      <td>0.000000</td>\n",
       "    </tr>\n",
       "    <tr>\n",
       "      <th>25%</th>\n",
       "      <td>2607.000000</td>\n",
       "      <td>4.400000e+05</td>\n",
       "      <td>3.000000</td>\n",
       "    </tr>\n",
       "    <tr>\n",
       "      <th>50%</th>\n",
       "      <td>2615.000000</td>\n",
       "      <td>5.500000e+05</td>\n",
       "      <td>3.000000</td>\n",
       "    </tr>\n",
       "    <tr>\n",
       "      <th>75%</th>\n",
       "      <td>2905.000000</td>\n",
       "      <td>7.050000e+05</td>\n",
       "      <td>4.000000</td>\n",
       "    </tr>\n",
       "    <tr>\n",
       "      <th>max</th>\n",
       "      <td>2914.000000</td>\n",
       "      <td>8.000000e+06</td>\n",
       "      <td>5.000000</td>\n",
       "    </tr>\n",
       "  </tbody>\n",
       "</table>\n",
       "</div>"
      ],
      "text/plain": [
       "           postcode         price      bedrooms\n",
       "count  29580.000000  2.958000e+04  29580.000000\n",
       "mean    2730.249730  6.097363e+05      3.250169\n",
       "std      146.717292  2.817079e+05      0.951275\n",
       "min     2600.000000  5.650000e+04      0.000000\n",
       "25%     2607.000000  4.400000e+05      3.000000\n",
       "50%     2615.000000  5.500000e+05      3.000000\n",
       "75%     2905.000000  7.050000e+05      4.000000\n",
       "max     2914.000000  8.000000e+06      5.000000"
      ]
     },
     "execution_count": 9,
     "metadata": {},
     "output_type": "execute_result"
    }
   ],
   "source": [
    "data2.describe()"
   ]
  },
  {
   "cell_type": "markdown",
   "id": "7d06d7eb",
   "metadata": {},
   "source": [
    "# unianalysis"
   ]
  },
  {
   "cell_type": "code",
   "execution_count": 17,
   "id": "2be4d791",
   "metadata": {},
   "outputs": [
    {
     "data": {
      "image/png": "[encoded data removed]",
      "text/plain": [
       "<Figure size 1200x600 with 1 Axes>"
      ]
     },
     "metadata": {},
     "output_type": "display_data"
    }
   ],
   "source": [
    "plt.figure(figsize=(12, 6))\n",
    "data2['propertyType'].value_counts().plot(kind='bar')\n",
    "plt.title(\"Distribution of propertyType Variable\")\n",
    "plt.xlabel(\"propertyType\")\n",
    "plt.ylabel(\"count\")\n",
    "plt.xticks(rotation=0)\n",
    "plt.show()"
   ]
  },
  {
   "cell_type": "code",
   "execution_count": 16,
   "id": "27703e76",
   "metadata": {},
   "outputs": [
    {
     "data": {
      "text/plain": [
       "house    24552\n",
       "unit      5028\n",
       "Name: propertyType, dtype: int64"
      ]
     },
     "execution_count": 16,
     "metadata": {},
     "output_type": "execute_result"
    }
   ],
   "source": [
    "data2.propertyType.value_counts()"
   ]
  },
  {
   "cell_type": "code",
   "execution_count": 20,
   "id": "726975c6",
   "metadata": {},
   "outputs": [
    {
     "name": "stdout",
     "output_type": "stream",
     "text": [
      "house    83.0\n",
      "unit     17.0\n",
      "Name: propertyType, dtype: float64\n",
      "None\n"
     ]
    }
   ],
   "source": [
    "# Assuming you have a DataFrame named tc\n",
    "PT = data2[\"propertyType\"].value_counts()\n",
    "\n",
    "# Calculate the total number of observations\n",
    "total_observations = PT.sum()\n",
    "\n",
    "# Convert counts to percentages\n",
    "PTPercent = round((PT / total_observations) * 100, 1)\n",
    "\n",
    "b = print(PTPercent)\n",
    "print(b)"
   ]
  },
  {
   "cell_type": "code",
   "execution_count": null,
   "id": "1f267806",
   "metadata": {},
   "outputs": [],
   "source": [
    "# across the dataset house had 83% of the purchase making it the most sought-after over unit which had 17% "
   ]
  },
  {
   "cell_type": "code",
   "execution_count": 10,
   "id": "144d75b1",
   "metadata": {},
   "outputs": [
    {
     "data": {
      "image/png": "[encoded data removed]",
      "text/plain": [
       "<Figure size 1200x600 with 1 Axes>"
      ]
     },
     "metadata": {},
     "output_type": "display_data"
    }
   ],
   "source": [
    "plt.figure(figsize=(12, 6))\n",
    "data2['bedrooms'].value_counts().plot(kind='bar')\n",
    "plt.title(\"Distribution of bedrooms Variable\")\n",
    "plt.xlabel(\"bedrooms\")\n",
    "plt.ylabel(\"Total Bedrooms Sale\")\n",
    "plt.xticks(rotation=0)\n",
    "plt.show()"
   ]
  },
  {
   "cell_type": "code",
   "execution_count": 16,
   "id": "f2457234",
   "metadata": {},
   "outputs": [
    {
     "data": {
      "text/plain": [
       "3    11933\n",
       "4    10442\n",
       "2     3598\n",
       "5     1950\n",
       "1     1627\n",
       "0       30\n",
       "Name: bedrooms, dtype: int64"
      ]
     },
     "execution_count": 16,
     "metadata": {},
     "output_type": "execute_result"
    }
   ],
   "source": [
    "data2.bedrooms.value_counts()"
   ]
  },
  {
   "cell_type": "code",
   "execution_count": 24,
   "id": "25b85cfe",
   "metadata": {},
   "outputs": [
    {
     "name": "stdout",
     "output_type": "stream",
     "text": [
      "3    40.3\n",
      "4    35.3\n",
      "2    12.2\n",
      "5     6.6\n",
      "1     5.5\n",
      "0     0.1\n",
      "Name: bedrooms, dtype: float64\n",
      "None\n"
     ]
    }
   ],
   "source": [
    "# Assuming you have a DataFrame named tc\n",
    "bm = data2[\"bedrooms\"].value_counts()\n",
    "\n",
    "# Calculate the total number of observations\n",
    "total_observations = bm.sum()\n",
    "\n",
    "# Convert counts to percentages\n",
    "bmPercent = round((bm / total_observations) * 100, 1)\n",
    "\n",
    "b = print(bmPercent)\n",
    "print(b)"
   ]
  },
  {
   "cell_type": "code",
   "execution_count": 23,
   "id": "b3ba2e8a",
   "metadata": {},
   "outputs": [
    {
     "name": "stdout",
     "output_type": "stream",
     "text": [
      "Number of Bedrooms for Unit:\n",
      "1 bedrooms: 1532\n",
      "2 bedrooms: 2792\n",
      "3 bedrooms: 652\n",
      "4 bedrooms: 38\n",
      "5 bedrooms: 3\n"
     ]
    }
   ],
   "source": [
    "# Assuming you have a DataFrame named data2\n",
    "unit_bed_counts = {}\n",
    "\n",
    "# Define the number of bedrooms to count\n",
    "num_bedrooms_list = [1, 2, 3, 4, 5]\n",
    "\n",
    "# Iterate through each number of bedrooms\n",
    "for num_bedrooms in num_bedrooms_list:\n",
    "    # Calculate the number of properties with a property type of \"unit\" and the current number of bedrooms\n",
    "    count = data2[(data2['propertyType'] == 'unit') & (data2['bedrooms'] == num_bedrooms)].shape[0]\n",
    "    # Store the count in the dictionary\n",
    "    unit_bed_counts[num_bedrooms] = count\n",
    "\n",
    "# Print the result\n",
    "print(\"Number of Bedrooms for Unit:\")\n",
    "for num_bedrooms, count in unit_bed_counts.items():\n",
    "    print(f\"{num_bedrooms} bedrooms: {count}\")"
   ]
  },
  {
   "cell_type": "code",
   "execution_count": 26,
   "id": "0766090c",
   "metadata": {},
   "outputs": [
    {
     "data": {
      "image/png": "[encoded data removed]",
      "text/plain": [
       "<Figure size 640x480 with 1 Axes>"
      ]
     },
     "metadata": {},
     "output_type": "display_data"
    }
   ],
   "source": [
    "# Plot the graph\n",
    "plt.bar(unit_bed_counts.keys(), unit_bed_counts.values())\n",
    "plt.title(\"Count of Properties with Bedrooms for Unit\")\n",
    "plt.xlabel(\"Number of Bedrooms\")\n",
    "plt.ylabel(\"Count\")\n",
    "plt.xticks(num_bedrooms_list)\n",
    "plt.show()"
   ]
  },
  {
   "cell_type": "code",
   "execution_count": 19,
   "id": "d95d5d32",
   "metadata": {},
   "outputs": [
    {
     "name": "stdout",
     "output_type": "stream",
     "text": [
      "Number of Bedrooms for House:\n",
      "1 bedrooms: 95\n",
      "2 bedrooms: 806\n",
      "3 bedrooms: 11281\n",
      "4 bedrooms: 10404\n",
      "5 bedrooms: 1947\n"
     ]
    }
   ],
   "source": [
    "# Assuming you have a DataFrame named data2\n",
    "house_bed_counts = {}\n",
    "\n",
    "# Define the number of bedrooms to count\n",
    "num_bedrooms_list = [1, 2, 3, 4, 5]\n",
    "\n",
    "# Iterate through each number of bedrooms\n",
    "for num_bedrooms in num_bedrooms_list:\n",
    "    # Calculate the number of properties with a property type of \"house\" and the current number of bedrooms\n",
    "    count = data2[(data2['propertyType'] == 'house') & (data2['bedrooms'] == num_bedrooms)].shape[0]\n",
    "    # Store the count in the dictionary\n",
    "    house_bed_counts[num_bedrooms] = count\n",
    "\n",
    "# Print the result\n",
    "print(\"Number of Bedrooms for House:\")\n",
    "for num_bedrooms, count in house_bed_counts.items():\n",
    "    print(f\"{num_bedrooms} bedrooms: {count}\")"
   ]
  },
  {
   "cell_type": "code",
   "execution_count": 25,
   "id": "7b44ebf9",
   "metadata": {},
   "outputs": [
    {
     "data": {
      "image/png": "[encoded data removed]",
      "text/plain": [
       "<Figure size 640x480 with 1 Axes>"
      ]
     },
     "metadata": {},
     "output_type": "display_data"
    }
   ],
   "source": [
    "# Plot the graph\n",
    "plt.bar(house_bed_counts.keys(), house_bed_counts.values())\n",
    "plt.title(\"Count of Properties with Bedrooms for House\")\n",
    "plt.xlabel(\"Number of Bedrooms\")\n",
    "plt.ylabel(\"Count\")\n",
    "plt.xticks(num_bedrooms_list)\n",
    "plt.show()"
   ]
  },
  {
   "cell_type": "code",
   "execution_count": null,
   "id": "b86437b7",
   "metadata": {},
   "outputs": [],
   "source": [
    "# According to the figures about people who puorchase units are those who mostly single or double bedrooms,\n",
    "# While those who purchase house are those who go for 3 or more bedrooms"
   ]
  },
  {
   "cell_type": "markdown",
   "id": "8f47559c",
   "metadata": {},
   "source": [
    "### Distribution of Price \n",
    "To check for the skewness"
   ]
  },
  {
   "cell_type": "code",
   "execution_count": 28,
   "id": "b2821cac",
   "metadata": {},
   "outputs": [
    {
     "data": {
      "image/png": "[encoded data removed]",
      "text/plain": [
       "<Figure size 1800x600 with 1 Axes>"
      ]
     },
     "metadata": {},
     "output_type": "display_data"
    }
   ],
   "source": [
    "plt.figure(figsize = (18,6))\n",
    "sns.histplot(data2[\"price\"])\n",
    "plt.title('Distribution of price')\n",
    "plt.xlabel(\"price\")\n",
    "plt.ylabel(\"count\")\n",
    "plt.show()"
   ]
  },
  {
   "cell_type": "code",
   "execution_count": 40,
   "id": "f85c412f",
   "metadata": {
    "scrolled": true
   },
   "outputs": [
    {
     "data": {
      "image/png": "[encoded data removed]",
      "text/plain": [
       "<Figure size 1800x600 with 1 Axes>"
      ]
     },
     "metadata": {},
     "output_type": "display_data"
    }
   ],
   "source": [
    "plt.figure(figsize = (18,6))\n",
    "sns.lineplot(data2[\"price\"])\n",
    "plt.title('Distribution of price')\n",
    "plt.xlabel(\"price\")\n",
    "plt.ylabel(\"count\")\n",
    "plt.show()"
   ]
  },
  {
   "cell_type": "code",
   "execution_count": null,
   "id": "7ceb7c77",
   "metadata": {},
   "outputs": [],
   "source": [
    "# This an Asymmetrical, meaning that the price is on the right side from the Histgram plots. \n",
    "# The data is not properly distributed."
   ]
  },
  {
   "cell_type": "code",
   "execution_count": 33,
   "id": "48764f3d",
   "metadata": {},
   "outputs": [
    {
     "data": {
      "text/plain": [
       "2615    3566\n",
       "2602    2603\n",
       "2913    2558\n",
       "2905    2259\n",
       "2617    2115\n",
       "2914    1972\n",
       "2611    1864\n",
       "2906    1640\n",
       "2612    1210\n",
       "2614    1058\n",
       "2604    1058\n",
       "2902    1035\n",
       "2607     963\n",
       "2904     919\n",
       "2603     805\n",
       "2605     771\n",
       "2903     675\n",
       "2606     659\n",
       "2600     634\n",
       "2912     499\n",
       "2601     260\n",
       "2911     249\n",
       "2900     152\n",
       "2620      26\n",
       "2616      11\n",
       "2609      10\n",
       "2618       9\n",
       "Name: postcode, dtype: int64"
      ]
     },
     "execution_count": 33,
     "metadata": {},
     "output_type": "execute_result"
    }
   ],
   "source": [
    "data2['postcode'].value_counts() # checking for the postcode that has the highest distribgustion"
   ]
  },
  {
   "cell_type": "code",
   "execution_count": 36,
   "id": "55115ba0",
   "metadata": {},
   "outputs": [
    {
     "data": {
      "image/png": "[encoded data removed]",
      "text/plain": [
       "<Figure size 1800x600 with 1 Axes>"
      ]
     },
     "metadata": {},
     "output_type": "display_data"
    }
   ],
   "source": [
    "plt.figure(figsize = (18,6))\n",
    "data2['postcode'].value_counts().plot(kind='bar')\n",
    "plt.title('Distribution of postcode')\n",
    "plt.xlabel(\"postcode\")\n",
    "plt.ylabel(\"count\")\n",
    "plt.show()"
   ]
  },
  {
   "cell_type": "code",
   "execution_count": 37,
   "id": "2fa04c3d",
   "metadata": {},
   "outputs": [],
   "source": [
    "# 2615 has the highest distributions on the postcode meaning it has the hightest sales location. "
   ]
  },
  {
   "cell_type": "markdown",
   "id": "0d1b8eb0",
   "metadata": {},
   "source": [
    "\n",
    "# Bivariate Analysis"
   ]
  },
  {
   "cell_type": "code",
   "execution_count": 39,
   "id": "1adc4f6b",
   "metadata": {
    "scrolled": true
   },
   "outputs": [
    {
     "data": {
      "text/plain": [
       "\"\\nAs we can see that our dataset didn't contained regular daily, monthly, and yearly data, \\nwe can extract them from the datesode feature. \\n\""
      ]
     },
     "execution_count": 39,
     "metadata": {},
     "output_type": "execute_result"
    }
   ],
   "source": [
    "\"\"\"\n",
    "As we can see that our dataset didn't contained regular daily, monthly, and yearly data, \n",
    "we can extract them from the datesode feature. \n",
    "\"\"\""
   ]
  },
  {
   "cell_type": "code",
   "execution_count": 60,
   "id": "26cd6443",
   "metadata": {},
   "outputs": [],
   "source": [
    "data2[\"datesold\"] = pd.to_datetime(data2[\"datesold\"]) \n",
    "# converting the datasold column to datetime format"
   ]
  },
  {
   "cell_type": "code",
   "execution_count": 58,
   "id": "c7ca5fe8",
   "metadata": {},
   "outputs": [
    {
     "data": {
      "text/plain": [
       "0         2/7/2007 0:00\n",
       "1        2/27/2007 0:00\n",
       "2         3/7/2007 0:00\n",
       "3         3/9/2007 0:00\n",
       "4        3/21/2007 0:00\n",
       "              ...      \n",
       "29575    7/25/2019 0:00\n",
       "29576    7/25/2019 0:00\n",
       "29577    7/26/2019 0:00\n",
       "29578    7/26/2019 0:00\n",
       "29579    7/26/2019 0:00\n",
       "Name: datesold, Length: 29580, dtype: object"
      ]
     },
     "execution_count": 58,
     "metadata": {},
     "output_type": "execute_result"
    }
   ],
   "source": [
    "data2['datesold']"
   ]
  },
  {
   "cell_type": "code",
   "execution_count": 62,
   "id": "c85b9278",
   "metadata": {},
   "outputs": [],
   "source": [
    "# extracting the date, month and year from  the datesold column to have additional \n",
    "3 columns to enhance our visiuation \n",
    "data2[\"day\"] = data2[\"datesold\"].dt.day\n",
    "data2[\"month\"] = data2[\"datesold\"].dt.month\n",
    "data2[\"year\"] = data2[\"datesold\"].dt.year"
   ]
  },
  {
   "cell_type": "code",
   "execution_count": 63,
   "id": "af2095fd",
   "metadata": {},
   "outputs": [
    {
     "data": {
      "text/html": [
       "<div>\n",
       "<style scoped>\n",
       "    .dataframe tbody tr th:only-of-type {\n",
       "        vertical-align: middle;\n",
       "    }\n",
       "\n",
       "    .dataframe tbody tr th {\n",
       "        vertical-align: top;\n",
       "    }\n",
       "\n",
       "    .dataframe thead th {\n",
       "        text-align: right;\n",
       "    }\n",
       "</style>\n",
       "<table border=\"1\" class=\"dataframe\">\n",
       "  <thead>\n",
       "    <tr style=\"text-align: right;\">\n",
       "      <th></th>\n",
       "      <th>datesold</th>\n",
       "      <th>postcode</th>\n",
       "      <th>price</th>\n",
       "      <th>propertyType</th>\n",
       "      <th>bedrooms</th>\n",
       "      <th>day</th>\n",
       "      <th>month</th>\n",
       "      <th>year</th>\n",
       "    </tr>\n",
       "  </thead>\n",
       "  <tbody>\n",
       "    <tr>\n",
       "      <th>0</th>\n",
       "      <td>2007-02-07</td>\n",
       "      <td>2607</td>\n",
       "      <td>525000</td>\n",
       "      <td>house</td>\n",
       "      <td>4</td>\n",
       "      <td>7</td>\n",
       "      <td>2</td>\n",
       "      <td>2007</td>\n",
       "    </tr>\n",
       "    <tr>\n",
       "      <th>1</th>\n",
       "      <td>2007-02-27</td>\n",
       "      <td>2906</td>\n",
       "      <td>290000</td>\n",
       "      <td>house</td>\n",
       "      <td>3</td>\n",
       "      <td>27</td>\n",
       "      <td>2</td>\n",
       "      <td>2007</td>\n",
       "    </tr>\n",
       "    <tr>\n",
       "      <th>2</th>\n",
       "      <td>2007-03-07</td>\n",
       "      <td>2905</td>\n",
       "      <td>328000</td>\n",
       "      <td>house</td>\n",
       "      <td>3</td>\n",
       "      <td>7</td>\n",
       "      <td>3</td>\n",
       "      <td>2007</td>\n",
       "    </tr>\n",
       "    <tr>\n",
       "      <th>3</th>\n",
       "      <td>2007-03-09</td>\n",
       "      <td>2905</td>\n",
       "      <td>380000</td>\n",
       "      <td>house</td>\n",
       "      <td>4</td>\n",
       "      <td>9</td>\n",
       "      <td>3</td>\n",
       "      <td>2007</td>\n",
       "    </tr>\n",
       "    <tr>\n",
       "      <th>4</th>\n",
       "      <td>2007-03-21</td>\n",
       "      <td>2906</td>\n",
       "      <td>310000</td>\n",
       "      <td>house</td>\n",
       "      <td>3</td>\n",
       "      <td>21</td>\n",
       "      <td>3</td>\n",
       "      <td>2007</td>\n",
       "    </tr>\n",
       "  </tbody>\n",
       "</table>\n",
       "</div>"
      ],
      "text/plain": [
       "    datesold  postcode   price propertyType  bedrooms  day  month  year\n",
       "0 2007-02-07      2607  525000        house         4    7      2  2007\n",
       "1 2007-02-27      2906  290000        house         3   27      2  2007\n",
       "2 2007-03-07      2905  328000        house         3    7      3  2007\n",
       "3 2007-03-09      2905  380000        house         4    9      3  2007\n",
       "4 2007-03-21      2906  310000        house         3   21      3  2007"
      ]
     },
     "execution_count": 63,
     "metadata": {},
     "output_type": "execute_result"
    }
   ],
   "source": [
    "data2.head()"
   ]
  },
  {
   "cell_type": "code",
   "execution_count": 64,
   "id": "84b68ad9",
   "metadata": {},
   "outputs": [
    {
     "data": {
      "text/html": [
       "<div>\n",
       "<style scoped>\n",
       "    .dataframe tbody tr th:only-of-type {\n",
       "        vertical-align: middle;\n",
       "    }\n",
       "\n",
       "    .dataframe tbody tr th {\n",
       "        vertical-align: top;\n",
       "    }\n",
       "\n",
       "    .dataframe thead th {\n",
       "        text-align: right;\n",
       "    }\n",
       "</style>\n",
       "<table border=\"1\" class=\"dataframe\">\n",
       "  <thead>\n",
       "    <tr style=\"text-align: right;\">\n",
       "      <th></th>\n",
       "      <th>datesold</th>\n",
       "      <th>postcode</th>\n",
       "      <th>price</th>\n",
       "      <th>propertyType</th>\n",
       "      <th>bedrooms</th>\n",
       "      <th>day</th>\n",
       "      <th>month</th>\n",
       "      <th>year</th>\n",
       "    </tr>\n",
       "  </thead>\n",
       "  <tbody>\n",
       "    <tr>\n",
       "      <th>29575</th>\n",
       "      <td>2019-07-25</td>\n",
       "      <td>2900</td>\n",
       "      <td>500000</td>\n",
       "      <td>unit</td>\n",
       "      <td>3</td>\n",
       "      <td>25</td>\n",
       "      <td>7</td>\n",
       "      <td>2019</td>\n",
       "    </tr>\n",
       "    <tr>\n",
       "      <th>29576</th>\n",
       "      <td>2019-07-25</td>\n",
       "      <td>2612</td>\n",
       "      <td>560000</td>\n",
       "      <td>unit</td>\n",
       "      <td>2</td>\n",
       "      <td>25</td>\n",
       "      <td>7</td>\n",
       "      <td>2019</td>\n",
       "    </tr>\n",
       "    <tr>\n",
       "      <th>29577</th>\n",
       "      <td>2019-07-26</td>\n",
       "      <td>2912</td>\n",
       "      <td>464950</td>\n",
       "      <td>unit</td>\n",
       "      <td>2</td>\n",
       "      <td>26</td>\n",
       "      <td>7</td>\n",
       "      <td>2019</td>\n",
       "    </tr>\n",
       "    <tr>\n",
       "      <th>29578</th>\n",
       "      <td>2019-07-26</td>\n",
       "      <td>2601</td>\n",
       "      <td>589000</td>\n",
       "      <td>unit</td>\n",
       "      <td>2</td>\n",
       "      <td>26</td>\n",
       "      <td>7</td>\n",
       "      <td>2019</td>\n",
       "    </tr>\n",
       "    <tr>\n",
       "      <th>29579</th>\n",
       "      <td>2019-07-26</td>\n",
       "      <td>2612</td>\n",
       "      <td>775000</td>\n",
       "      <td>unit</td>\n",
       "      <td>2</td>\n",
       "      <td>26</td>\n",
       "      <td>7</td>\n",
       "      <td>2019</td>\n",
       "    </tr>\n",
       "  </tbody>\n",
       "</table>\n",
       "</div>"
      ],
      "text/plain": [
       "        datesold  postcode   price propertyType  bedrooms  day  month  year\n",
       "29575 2019-07-25      2900  500000         unit         3   25      7  2019\n",
       "29576 2019-07-25      2612  560000         unit         2   25      7  2019\n",
       "29577 2019-07-26      2912  464950         unit         2   26      7  2019\n",
       "29578 2019-07-26      2601  589000         unit         2   26      7  2019\n",
       "29579 2019-07-26      2612  775000         unit         2   26      7  2019"
      ]
     },
     "execution_count": 64,
     "metadata": {},
     "output_type": "execute_result"
    }
   ],
   "source": [
    "data2.tail()"
   ]
  },
  {
   "cell_type": "code",
   "execution_count": 65,
   "id": "6d7f19d8",
   "metadata": {},
   "outputs": [
    {
     "data": {
      "text/plain": [
       "11    3102\n",
       "3     2878\n",
       "5     2797\n",
       "2     2656\n",
       "10    2548\n",
       "4     2468\n",
       "12    2432\n",
       "8     2429\n",
       "7     2386\n",
       "9     2367\n",
       "6     2213\n",
       "1     1304\n",
       "Name: month, dtype: int64"
      ]
     },
     "execution_count": 65,
     "metadata": {},
     "output_type": "execute_result"
    }
   ],
   "source": [
    "data2['month'].value_counts()"
   ]
  },
  {
   "cell_type": "code",
   "execution_count": 66,
   "id": "0ffa114c",
   "metadata": {},
   "outputs": [
    {
     "data": {
      "text/plain": [
       "2017    4541\n",
       "2016    3908\n",
       "2018    3858\n",
       "2015    3648\n",
       "2014    2863\n",
       "2013    2119\n",
       "2012    1858\n",
       "2011    1633\n",
       "2010    1555\n",
       "2009    1426\n",
       "2019    1385\n",
       "2008     639\n",
       "2007     147\n",
       "Name: year, dtype: int64"
      ]
     },
     "execution_count": 66,
     "metadata": {},
     "output_type": "execute_result"
    }
   ],
   "source": [
    "data2['year'].value_counts()"
   ]
  },
  {
   "cell_type": "code",
   "execution_count": 93,
   "id": "58f836db",
   "metadata": {},
   "outputs": [],
   "source": [
    "# checking for the highest monthly sale of the property type\n",
    "property_per_month = data2.groupby(\"month\")[\"propertyType\"].apply(lambda x: x.value_counts())"
   ]
  },
  {
   "cell_type": "code",
   "execution_count": 94,
   "id": "d39e1aca",
   "metadata": {},
   "outputs": [
    {
     "name": "stdout",
     "output_type": "stream",
     "text": [
      "month       \n",
      "1      house    1001\n",
      "       unit      303\n",
      "2      house    2150\n",
      "       unit      506\n",
      "3      house    2419\n",
      "       unit      459\n",
      "4      house    2022\n",
      "       unit      446\n",
      "5      house    2325\n",
      "       unit      472\n",
      "6      house    1843\n",
      "       unit      370\n",
      "7      house    1927\n",
      "       unit      459\n",
      "8      house    2020\n",
      "       unit      409\n",
      "9      house    1967\n",
      "       unit      400\n",
      "10     house    2145\n",
      "       unit      403\n",
      "11     house    2667\n",
      "       unit      435\n",
      "12     house    2066\n",
      "       unit      366\n",
      "Name: propertyType, dtype: int64\n"
     ]
    }
   ],
   "source": [
    "print(property_per_month) . "
   ]
  },
  {
   "cell_type": "code",
   "execution_count": 44,
   "id": "038366ab",
   "metadata": {
    "collapsed": true
   },
   "outputs": [
    {
     "ename": "NameError",
     "evalue": "name 'property_per_month' is not defined",
     "output_type": "error",
     "traceback": [
      "\u001b[1;31m---------------------------------------------------------------------------\u001b[0m",
      "\u001b[1;31mNameError\u001b[0m                                 Traceback (most recent call last)",
      "Cell \u001b[1;32mIn[44], line 1\u001b[0m\n\u001b[1;32m----> 1\u001b[0m \u001b[43mproperty_per_month\u001b[49m\u001b[38;5;241m.\u001b[39mplot(kind\u001b[38;5;241m=\u001b[39m\u001b[38;5;124m\"\u001b[39m\u001b[38;5;124mbar\u001b[39m\u001b[38;5;124m\"\u001b[39m, color \u001b[38;5;241m=\u001b[39m\u001b[38;5;124m\"\u001b[39m\u001b[38;5;124mb\u001b[39m\u001b[38;5;124m\"\u001b[39m)\n\u001b[0;32m      2\u001b[0m plt\u001b[38;5;241m.\u001b[39mtitle(\u001b[38;5;124m'\u001b[39m\u001b[38;5;124mcounts of unique Property Types for each month\u001b[39m\u001b[38;5;124m'\u001b[39m)\n\u001b[0;32m      3\u001b[0m plt\u001b[38;5;241m.\u001b[39mxlabel(\u001b[38;5;124m\"\u001b[39m\u001b[38;5;124mMonth\u001b[39m\u001b[38;5;124m\"\u001b[39m)\n",
      "\u001b[1;31mNameError\u001b[0m: name 'property_per_month' is not defined"
     ]
    }
   ],
   "source": [
    "property_per_month.plot(kind=\"bar\", color =\"b\")\n",
    "plt.title('counts of unique Property Types for each month')\n",
    "plt.xlabel(\"Month\")\n",
    "plt.ylabel(\"count\")\n",
    "plt.xticks(rotation = 45)\n",
    "plt.legend(title=\"Property Type\")\n",
    "plt.show()"
   ]
  },
  {
   "cell_type": "code",
   "execution_count": 74,
   "id": "4e287500",
   "metadata": {},
   "outputs": [],
   "source": [
    "# We can see that the 11 month has the highest sales of property "
   ]
  },
  {
   "cell_type": "code",
   "execution_count": 102,
   "id": "b8c08e94",
   "metadata": {},
   "outputs": [],
   "source": [
    "property_per_year = data2.groupby(\"year\")[\"propertyType\"].apply(lambda x: x.value_counts())"
   ]
  },
  {
   "cell_type": "code",
   "execution_count": 103,
   "id": "c3e1d060",
   "metadata": {},
   "outputs": [
    {
     "data": {
      "text/plain": [
       "year       \n",
       "2007  house     130\n",
       "      unit       17\n",
       "2008  house     592\n",
       "      unit       47\n",
       "2009  house    1235\n",
       "      unit      191\n",
       "2010  house    1374\n",
       "      unit      181\n",
       "2011  house    1439\n",
       "      unit      194\n",
       "2012  house    1612\n",
       "      unit      246\n",
       "2013  house    1841\n",
       "      unit      278\n",
       "2014  house    2507\n",
       "      unit      356\n",
       "2015  house    3093\n",
       "      unit      555\n",
       "2016  house    3213\n",
       "      unit      695\n",
       "2017  house    3630\n",
       "      unit      911\n",
       "2018  house    2864\n",
       "      unit      994\n",
       "2019  house    1022\n",
       "      unit      363\n",
       "Name: propertyType, dtype: int64"
      ]
     },
     "execution_count": 103,
     "metadata": {},
     "output_type": "execute_result"
    }
   ],
   "source": [
    "property_per_year"
   ]
  },
  {
   "cell_type": "code",
   "execution_count": 110,
   "id": "4314a0c9",
   "metadata": {},
   "outputs": [
    {
     "data": {
      "image/png": "[encoded data removed]",
      "text/plain": [
       "<Figure size 640x480 with 1 Axes>"
      ]
     },
     "metadata": {},
     "output_type": "display_data"
    }
   ],
   "source": [
    "\n",
    "property_per_year.plot(kind=\"bar\", color =\"y\")\n",
    "plt.title('counts of unique Property Types for each year')\n",
    "plt.xlabel(\"year\")\n",
    "plt.ylabel(\"count\")\n",
    "plt.xticks(rotation = 90)\n",
    "plt.legend()\n",
    "plt.show()"
   ]
  },
  {
   "cell_type": "code",
   "execution_count": 111,
   "id": "6908c175",
   "metadata": {},
   "outputs": [],
   "source": [
    "# year 2017 has the hightest sales of property. "
   ]
  },
  {
   "cell_type": "markdown",
   "id": "f7fddbf7",
   "metadata": {},
   "source": [
    "## Summary of the Analysis Conducted on House Property Sales Time Series\n",
    "- The 3-bedroom category exhibits the highest sales, followed by the 4-bedroom category.\n",
    "- House properType shows the highest number of properties sold based on the analysis.\n",
    "- The price distribution matrix displays is an Asymmetrical, meaning that the price is on the right side from the Histgram plots. The data is not properly distributed.\n",
    "- Postcode 2615 stands out with the highest sales, indicating a prime location.\n",
    "- The 11th month records the highest property sales within a given year.\n",
    "- There is a consistent upward trend in sales from 2009 to 2017, reaching the peak in 2017, followed by a decline starting in 2018.\n",
    "\n",
    "These insights hold significant importance for the company's decision-making process.\n",
    "\n"
   ]
  },
  {
   "cell_type": "code",
   "execution_count": null,
   "id": "7d1e0757",
   "metadata": {},
   "outputs": [],
   "source": []
  }
 ],
 "metadata": {
  "kernelspec": {
   "display_name": "Python 3 (ipykernel)",
   "language": "python",
   "name": "python3"
  },
  "language_info": {
   "codemirror_mode": {
    "name": "ipython",
    "version": 3
   },
   "file_extension": ".py",
   "mimetype": "text/x-python",
   "name": "python",
   "nbconvert_exporter": "python",
   "pygments_lexer": "ipython3",
   "version": "3.11.3"
  }
 },
 "nbformat": 4,
 "nbformat_minor": 5
}
